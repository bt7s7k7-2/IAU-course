{
 "cells": [
  {
   "cell_type": "markdown",
   "metadata": {
    "slideshow": {
     "slide_type": "slide"
    }
   },
   "source": [
    "# Exploratory Data Analysis (EDA)\n",
    "\n",
    "#### Today we will focus on how...\n",
    "- load data\n",
    "- analyze individual attributes\n",
    "- analyze the relationships between attributes\n",
    "- visualize data (suitable types of visualizations, properties of good visualizations, how not to deceive with visualization)\n",
    "\n",
    "#### Before we start analyzing the data, we should clarify…\n",
    "- What questions should we answer with the analysis?\n",
    "- What task do we have to solve?\n",
    "\n",
    "#### In this subject we will deal with ML only two tasks\n",
    "- Classification\n",
    "- Regression\n",
    "\n",
    "#### In both cases, we try to find the function $f$ of the attributes $X$, which will predict the value of the dependent variable $Y$\n",
    "- In case of regression 𝑌∈𝑅\n",
    "- In case of classification 𝑌∈{𝐶1,𝐶2,…,𝐶𝑁}\n",
    "\n",
    "Both tasks are an example of **supervised learning**\n",
    "\n",
    "# We can start EDA\n",
    "\n",
    "- Describe the data together with their characteristics = **Descriptive statistics**\n",
    "- Formulate and verify data hypotheses = **Data visualization** + inferential statistics\n",
    "- Identify relationships between attributes = **Dependencies** (e.g. correlations)\n",
    "- Identify problems in the data = What we will have to solve as part of preprocessing\n",
    "\n",
    "#### Possible problems in the data\n",
    "\n",
    "* inappropriate data structure (data is not in tabular form or one entity is described by several rows of the table)\n",
    "* duplicate records, or ambiguous mapping between records\n",
    "* inconsistent data formats\n",
    "* missing values\n",
    "* deviated (outlier) values \n",
    "* and more\n",
    "\n",
    "# Iris dataset\n",
    "\n",
    "Three species: setosa, virginica, versicolor\n",
    "<img src=\"https://i.imgur.com/PQqYGaW.png\" width=\"40%\" />"
   ]
  },
  {
   "cell_type": "code",
   "execution_count": null,
   "metadata": {},
   "outputs": [],
   "source": [
    "import matplotlib.pyplot as plt\n",
    "import seaborn as sns\n",
    "import pandas as pd\n",
    "import numpy as np\n",
    "import scipy.stats as stats"
   ]
  },
  {
   "cell_type": "code",
   "execution_count": null,
   "metadata": {
    "slideshow": {
     "slide_type": "slide"
    }
   },
   "outputs": [],
   "source": [
    "iris = sns.load_dataset(\"iris\")\n",
    "iris.info()"
   ]
  },
  {
   "cell_type": "code",
   "execution_count": null,
   "metadata": {
    "slideshow": {
     "slide_type": "fragment"
    }
   },
   "outputs": [],
   "source": [
    "iris.shape[0] - iris.dropna().shape[0]"
   ]
  },
  {
   "cell_type": "code",
   "execution_count": null,
   "metadata": {
    "slideshow": {
     "slide_type": "fragment"
    }
   },
   "outputs": [],
   "source": [
    "iris[iris.isnull().any(axis=1)]"
   ]
  },
  {
   "cell_type": "code",
   "execution_count": null,
   "metadata": {
    "slideshow": {
     "slide_type": "fragment"
    }
   },
   "outputs": [],
   "source": [
    "iris.species.unique()"
   ]
  },
  {
   "cell_type": "markdown",
   "metadata": {
    "slideshow": {
     "slide_type": "slide"
    }
   },
   "source": [
    "# Attribute types\n",
    "* Continuous (numeric)\n",
    "* Discrete (categorical) - nominal vs. ordinal\n",
    "\n",
    "**Beware of categorical attributes that are represented numerically, i.e. the numbers just code the category**\n",
    "\n",
    "### Univariate analysis - Analysis of attributes one by one\n",
    "\n",
    "* **continuous** - descriptive statistics (average, median, ...), distributions\n",
    "* **categorical** - number of unique values, frequency of their occurrence\n",
    "\n",
    "### bivariate analysis - Pair analysis \n",
    "\n",
    "* **continuous-continuous** - dependence, correlation\n",
    "* **continuous-categorical** - differences in the value of the continuous attribute depending on the category\n",
    "* **categorical-categorical** - table, ratio of frequency of values"
   ]
  },
  {
   "cell_type": "code",
   "execution_count": null,
   "metadata": {
    "slideshow": {
     "slide_type": "slide"
    }
   },
   "outputs": [],
   "source": [
    "iris.describe()"
   ]
  },
  {
   "cell_type": "code",
   "execution_count": null,
   "metadata": {
    "slideshow": {
     "slide_type": "slide"
    }
   },
   "outputs": [],
   "source": [
    "iris.describe(exclude=np.number)"
   ]
  },
  {
   "cell_type": "markdown",
   "metadata": {
    "slideshow": {
     "slide_type": "slide"
    }
   },
   "source": [
    "# Univariate analysis - Analysis of individual attributes: Continuous attributes\n",
    "\n",
    "We want to show what the shape of the data distribution is, whether it is clustered around some **center**, and what the **dispersion** of the values ​​is\n",
    "\n",
    "## The most common Measures of Central Tendency\n",
    "\n",
    "* **mean**\n",
    "* **median**: the middle value that separates the higher and lower values\n",
    "* **mode** (modal value, most likely value): most frequent value (value with the greatest probability of occurrence)"
   ]
  },
  {
   "cell_type": "code",
   "execution_count": null,
   "metadata": {
    "slideshow": {
     "slide_type": "slide"
    }
   },
   "outputs": [],
   "source": [
    "x = np.array([1000, 1000, 1200, 1100, 10000])\n",
    "x.mean()"
   ]
  },
  {
   "cell_type": "code",
   "execution_count": null,
   "metadata": {
    "slideshow": {
     "slide_type": "fragment"
    }
   },
   "outputs": [],
   "source": [
    "np.median(x)"
   ]
  },
  {
   "cell_type": "code",
   "execution_count": null,
   "metadata": {
    "slideshow": {
     "slide_type": "fragment"
    }
   },
   "outputs": [],
   "source": [
    "stats.mode(x)"
   ]
  },
  {
   "cell_type": "markdown",
   "metadata": {
    "slideshow": {
     "slide_type": "slide"
    }
   },
   "source": [
    "## Measures of Dispersion\n",
    "\n",
    "* **variance**: mean of the squared deviations from the mean \n",
    "$$ E[(X-E[X])^2] $$\n",
    "\n",
    "* **standard deviation**: the square root of the variance, is in the units of the measured variable\n",
    "$$ s = \\sqrt{\\frac{1}{N-1}\\sum_{i=1}^N{(x_i-\\overline{x})^2}} $$ \n",
    "\n",
    "* **range**: max - min\n",
    "* **quartile**: value from which 25%, or 75% of values ​​smaller \n",
    "* **percentile**: value from which XX% of values ​​are smaller\n",
    "* **inter quartile range**: difference between 25% and 75% quartile, less prone to outliers than range"
   ]
  },
  {
   "cell_type": "markdown",
   "metadata": {
    "slideshow": {
     "slide_type": "slide"
    }
   },
   "source": [
    "### We use two basic types of graphs to visualize continuous variables\n",
    "\n",
    "* Boxplot\n",
    "* Histogram"
   ]
  },
  {
   "cell_type": "code",
   "execution_count": null,
   "metadata": {
    "slideshow": {
     "slide_type": "slide"
    }
   },
   "outputs": [],
   "source": [
    "iris[iris.columns.difference(['species'])].plot.box()"
   ]
  },
  {
   "cell_type": "markdown",
   "metadata": {
    "slideshow": {
     "slide_type": "slide"
    }
   },
   "source": [
    "## Histogram\n",
    "\n",
    "- For continuous variables, a **pyplot.hist** or **seaborn.distplot** may be used. \n",
    "- For discrete variables, a *seaborn.countplot* is more convenient."
   ]
  },
  {
   "cell_type": "code",
   "execution_count": null,
   "metadata": {
    "slideshow": {
     "slide_type": "fragment"
    }
   },
   "outputs": [],
   "source": [
    "iris.petal_length.plot.hist(bins=30)"
   ]
  },
  {
   "cell_type": "markdown",
   "metadata": {
    "slideshow": {
     "slide_type": "slide"
    }
   },
   "source": [
    "## Data distribution"
   ]
  },
  {
   "cell_type": "code",
   "execution_count": null,
   "metadata": {
    "slideshow": {
     "slide_type": "fragment"
    }
   },
   "outputs": [],
   "source": [
    "sns.displot(iris.petal_length, bins=30)"
   ]
  },
  {
   "cell_type": "markdown",
   "metadata": {
    "slideshow": {
     "slide_type": "slide"
    }
   },
   "source": [
    "## Skewness and Kurtosis\n",
    "\n",
    "### Skewness\n",
    "\n",
    "Skewness is a measure of asymmetry.\n",
    "\n",
    "The coefficient of skewness is a metric of how skewed a distribution is. A perfectly symmetric distribution has a coefficient value equal to 0. A distribution skewed to the left will have a coefficient value greater than 0, a distribution skewed to the right will have a coefficient value less than 0.\n",
    "\n",
    "<img src=\"https://miro.medium.com/max/600/1*nj-Ch3AUFmkd0JUSOW_bTQ.jpeg\" alt=\"Skewness explained\" />\n",
    "\n",
    "So, when is the skewness too much?\n",
    "* If the skewness is between -0.5 and 0.5, the data are fairly symmetrical.\n",
    "* If the skewness is between -1 and -0.5 (negatively skewed) or between 0.5 and 1 (positively skewed), the data are moderately skewed.\n",
    "* If the skewness is less than -1 (negatively skewed) or greater than 1 (positively skewed), the data are highly skewed."
   ]
  },
  {
   "cell_type": "code",
   "execution_count": null,
   "metadata": {
    "slideshow": {
     "slide_type": "skip"
    }
   },
   "outputs": [],
   "source": [
    "sample_size = 10000\n",
    "\n",
    "norm = stats.norm(0, 1)\n",
    "x = np.linspace(-5, 5, 100)\n",
    "sample = norm.rvs(sample_size)\n",
    "\n",
    "plt.plot(x, norm.pdf(x))\n",
    "plt.hist(sample, bins=20)\n",
    "plt.title(\"Normal distribution: \"\"Skewness %.5f\" % (stats.skew(sample), ))"
   ]
  },
  {
   "cell_type": "code",
   "execution_count": null,
   "metadata": {
    "slideshow": {
     "slide_type": "skip"
    }
   },
   "outputs": [],
   "source": [
    "sample_size = 1000\n",
    "\n",
    "chi2 = stats.chi2(5)\n",
    "x = np.linspace(0, 30, 100)\n",
    "sample = chi2.rvs(sample_size)\n",
    "\n",
    "plt.plot(x, chi2.pdf(x))\n",
    "plt.hist(sample, bins=20)\n",
    "plt.title(\"Chi-squared(5) distribution: \"\"Skewness %.5f\" % (stats.skew(sample)))"
   ]
  },
  {
   "cell_type": "code",
   "execution_count": null,
   "metadata": {
    "slideshow": {
     "slide_type": "skip"
    }
   },
   "outputs": [],
   "source": [
    "sample_size = 1000\n",
    "\n",
    "chi2 = stats.chi2(5)\n",
    "x = np.linspace(0, 30, 100)\n",
    "sample = 30 - chi2.rvs(sample_size)\n",
    "\n",
    "plt.plot(x, chi2.pdf(30 - x))\n",
    "plt.hist(sample, bins=20)\n",
    "plt.title(\"30 - Chi-squared(5) distribution: \"\"Skewness %.5f\" % (stats.skew(sample), ))"
   ]
  },
  {
   "cell_type": "markdown",
   "metadata": {
    "slideshow": {
     "slide_type": "slide"
    }
   },
   "source": [
    "### Kurtosis\n",
    "\n",
    "- Kurtosis is a measure of whether the data are peaked or flat relative to a normal distribution\n",
    "- The kurtosis coefficient measures the amount of data concentrated in the tails. It therefore expresses the amount, or the tendency of a given distribution to produce outliers (far from the center of the distribution) values.\n",
    "- It is very often compared to the value of the normal distribution coefficient, which is 3. \n",
    "If it is more than 3, more data is concentrated on the edges. If less than 3, then there is less data in the margins.\n",
    "- *excess kurtosis* is also often used, which is the difference from the normal distribution, i.e. kurtosis - 3.\n",
    "\n",
    "<img src=\"https://excelrcom.b-cdn.net/assets/admin/ckfinder/userfiles/images/tableau1/tableau2/tableau3/tableau4/tableau5/tableau6/skewness-kurtosis_1JPG-.jpg\" width=\"50%\"/>"
   ]
  },
  {
   "cell_type": "code",
   "execution_count": null,
   "metadata": {
    "slideshow": {
     "slide_type": "skip"
    }
   },
   "outputs": [],
   "source": [
    "sample_size = 100000\n",
    "\n",
    "norm = stats.norm(0, 1)\n",
    "x = np.linspace(-5, 5, 100)\n",
    "sample = norm.rvs(sample_size)\n",
    "\n",
    "plt.plot(x, norm.pdf(x))\n",
    "plt.hist(sample, bins=20)\n",
    "plt.title(\"Normal distribution: \"\"Kurtosis %.5f\" % (stats.kurtosis(sample), ))"
   ]
  },
  {
   "cell_type": "markdown",
   "metadata": {
    "slideshow": {
     "slide_type": "notes"
    }
   },
   "source": [
    "In the basic setting, the function returns excess kurtosis."
   ]
  },
  {
   "cell_type": "code",
   "execution_count": null,
   "metadata": {
    "slideshow": {
     "slide_type": "skip"
    }
   },
   "outputs": [],
   "source": [
    "sample_size = 100000\n",
    "\n",
    "norm = stats.norm(0,1)\n",
    "x = np.linspace(-7, 7, 100)\n",
    "sample = norm.rvs(sample_size)\n",
    "\n",
    "plt.plot(x, norm.pdf(x))\n",
    "plt.hist(sample, bins=20)\n",
    "plt.title(\"Normal distribution: \"\"Kurtosis %.5f\" % (stats.kurtosis(sample, fisher=False), ))\n",
    "# we have to change the fisher parameter to False"
   ]
  },
  {
   "cell_type": "code",
   "execution_count": null,
   "metadata": {
    "slideshow": {
     "slide_type": "skip"
    }
   },
   "outputs": [],
   "source": [
    "sample_size = 1000\n",
    "\n",
    "logistic = stats.logistic()\n",
    "x = np.linspace(-7, 7, 100)\n",
    "sample = logistic.rvs(sample_size)\n",
    "\n",
    "plt.plot(x, logistic.pdf(x))\n",
    "plt.hist(sample, bins=20)\n",
    "\n",
    "plt.title(\"Logistic distribution: \"\"Kurtosis %.5f\" % (stats.kurtosis(sample, fisher=False)))"
   ]
  },
  {
   "cell_type": "code",
   "execution_count": null,
   "metadata": {
    "slideshow": {
     "slide_type": "skip"
    }
   },
   "outputs": [],
   "source": [
    "sample_size = 1000\n",
    "\n",
    "uniform = stats.uniform()\n",
    "x = np.linspace(-7, 7, 100)\n",
    "sample = uniform.rvs(sample_size)\n",
    "\n",
    "plt.plot(x, uniform.pdf(x))\n",
    "plt.hist(sample, bins=20)\n",
    "\n",
    "plt.title(\"Uniform distribution: \"\"Kurtosis %.5f\" % (stats.kurtosis(sample, fisher=False)))"
   ]
  },
  {
   "cell_type": "markdown",
   "metadata": {
    "slideshow": {
     "slide_type": "slide"
    }
   },
   "source": [
    "## Univariate analysis - Analysis of individual attributes - Categorical attributes\n",
    "\n",
    "The most common way of display is a frequency table showing either the number of observations for individual unique attribute values ​​or the ratio to the total number of observations. \n",
    "\n",
    "For graphical visualization, a **column graph (bar plot)** is used."
   ]
  },
  {
   "cell_type": "code",
   "execution_count": null,
   "metadata": {
    "slideshow": {
     "slide_type": "slide"
    }
   },
   "outputs": [],
   "source": [
    "diamonds = pd.read_csv('data/diamonds.csv')\n",
    "diamonds.head()"
   ]
  },
  {
   "cell_type": "code",
   "execution_count": null,
   "metadata": {
    "slideshow": {
     "slide_type": "fragment"
    }
   },
   "outputs": [],
   "source": [
    "diamonds.color.value_counts()"
   ]
  },
  {
   "cell_type": "code",
   "execution_count": null,
   "metadata": {
    "slideshow": {
     "slide_type": "slide"
    }
   },
   "outputs": [],
   "source": [
    "diamonds.color.value_counts().plot(kind='bar')"
   ]
  },
  {
   "cell_type": "markdown",
   "metadata": {
    "slideshow": {
     "slide_type": "slide"
    }
   },
   "source": [
    "### When is it appropriate to use a column chart, and when is it a pie chart? What are their advantages and disadvantages?"
   ]
  },
  {
   "cell_type": "code",
   "execution_count": null,
   "metadata": {
    "slideshow": {
     "slide_type": "fragment"
    }
   },
   "outputs": [],
   "source": [
    "diamonds.color.value_counts().plot(kind='pie')"
   ]
  },
  {
   "cell_type": "markdown",
   "metadata": {
    "slideshow": {
     "slide_type": "notes"
    }
   },
   "source": [
    "For more than 3-4 values, it is better to use a bar chart."
   ]
  },
  {
   "cell_type": "markdown",
   "metadata": {
    "slideshow": {
     "slide_type": "slide"
    }
   },
   "source": [
    "## Bivariate analysis - Pair analysis\n",
    "\n",
    "### Continuous - continuous: Scatter plot\n",
    "\n",
    "The most common way to visualize the relationship of two continuous attributes.\n",
    "\n",
    "Shows the distribution in the value space. It allows you to see if there are any natural clusters in the data."
   ]
  },
  {
   "cell_type": "code",
   "execution_count": null,
   "metadata": {
    "slideshow": {
     "slide_type": "slide"
    }
   },
   "outputs": [],
   "source": [
    "plt.scatter(iris.sepal_length, iris.sepal_width)"
   ]
  },
  {
   "cell_type": "code",
   "execution_count": null,
   "metadata": {
    "slideshow": {
     "slide_type": "slide"
    }
   },
   "outputs": [],
   "source": [
    "sns.pairplot(iris, hue=\"species\")"
   ]
  },
  {
   "cell_type": "markdown",
   "metadata": {
    "slideshow": {
     "slide_type": "slide"
    }
   },
   "source": [
    "## Correlation\n",
    "\n",
    "A value in the range [-1, 1] that tells how strong the **linear** relationship is between the attributes.\n",
    "\n",
    "* -1 perfect negative correlation\n",
    "* 0 no correlation\n",
    "* 1 perfect positive correlation\n",
    "\n",
    "Pearson's correlation coefficient:\n",
    "$$ corr(X, Y) = \\frac{cov(X,Y)}{\\sigma_X\\sigma_Y} = \\frac{E[(X-E[X])(Y-E[Y])]}{\\sigma_X\\sigma_Y }$$\n",
    "\n",
    "$$ r_{xy} = \\frac{\\sum_{i=1}^{n}{(x_i-\\overline{x})(y_i-\\overline{y})}}{(n-1)s_xs_y} $$\n",
    "\n",
    "<img src=\"https://www.analyticsvidhya.com/wp-content/uploads/2015/02/Data_exploration_4.png\" width=\"50%\"/>\n",
    "\n",
    "### Correlation between two variables X and Y with values ​​in <-1, +1>\n",
    "\n",
    "Pearson's correlation coefficient measures the **linear relationship** between two variables."
   ]
  },
  {
   "cell_type": "markdown",
   "metadata": {
    "slideshow": {
     "slide_type": "fragment"
    }
   },
   "source": [
    "However, there may be another type of dependency between two variables.\n",
    "\n",
    "Alternatives to the Pearson correlation coefficient that do not require linearity, only monotonicity, are:\n",
    "* Spearman's coefficient\n",
    "* Kendal's $\\tau$"
   ]
  },
  {
   "cell_type": "code",
   "execution_count": null,
   "metadata": {
    "slideshow": {
     "slide_type": "slide"
    }
   },
   "outputs": [],
   "source": [
    "sns.regplot(x=\"petal_length\", y=\"petal_width\", data=iris)\n",
    "print(\"Pearson correlation: %.3f\" % iris.petal_length.corr(iris.petal_width))"
   ]
  },
  {
   "cell_type": "code",
   "execution_count": null,
   "metadata": {
    "slideshow": {
     "slide_type": "slide"
    }
   },
   "outputs": [],
   "source": [
    "iris.corr()"
   ]
  },
  {
   "cell_type": "code",
   "execution_count": null,
   "metadata": {
    "slideshow": {
     "slide_type": "slide"
    }
   },
   "outputs": [],
   "source": [
    "fig, ax = plt.subplots(figsize=(10,8))\n",
    "sns.heatmap(iris.corr(), ax=ax, annot=True, fmt=\".3f\")"
   ]
  },
  {
   "cell_type": "markdown",
   "metadata": {
    "slideshow": {
     "slide_type": "slide"
    }
   },
   "source": [
    "## Correlation does not imply causation - Correlation $\\neq$ causality\n",
    "\n",
    "- If two phenomena are correlated, it may be a coincidence. (*See examples of spurious correlations here:* http://tylervigen.com/spurious-correlations)\n",
    "- Or there may be some other phenomenon that is the cause of both. (*E.g. student participation in lectures can be correlated with their final grade in the subject, but maybe more hard-working students attend lectures, who would have a better grade anyway.*)\n",
    "- **Proving causality is non-trivial - a controlled (randomized) experiment**"
   ]
  },
  {
   "cell_type": "markdown",
   "metadata": {
    "slideshow": {
     "slide_type": "slide"
    }
   },
   "source": [
    "## Bivariate analysis - Pair analysis: Continuous - categorical\n",
    "\n",
    "Here, dividing observations by categorical value and displaying distributions of subsets of numerical values, for example, using histograms or boxplots, is most often used.\n",
    "\n",
    "That is, it is a multiple use of visualizations that are used to display continuous attributes."
   ]
  },
  {
   "cell_type": "code",
   "execution_count": null,
   "metadata": {
    "slideshow": {
     "slide_type": "slide"
    }
   },
   "outputs": [],
   "source": [
    "sns.boxplot(x='species', y='petal_length', data=iris)"
   ]
  },
  {
   "cell_type": "markdown",
   "metadata": {
    "slideshow": {
     "slide_type": "slide"
    }
   },
   "source": [
    "## Bivariate analysis - Pair analysis: Categorical - categorical\n",
    "\n",
    "* Contingency table\n",
    "* Heatmap\n",
    "* Pairplot\n",
    "* Correlation visualization"
   ]
  },
  {
   "cell_type": "code",
   "execution_count": null,
   "metadata": {
    "slideshow": {
     "slide_type": "slide"
    }
   },
   "outputs": [],
   "source": [
    "titanic = pd.read_csv('data/titanic/train.csv')\n",
    "titanic.head()"
   ]
  },
  {
   "cell_type": "code",
   "execution_count": null,
   "metadata": {
    "slideshow": {
     "slide_type": "fragment"
    }
   },
   "outputs": [],
   "source": [
    "# frequency table\n",
    "titanic[\"Survived\"].value_counts()"
   ]
  },
  {
   "cell_type": "code",
   "execution_count": null,
   "metadata": {
    "slideshow": {
     "slide_type": "slide"
    }
   },
   "outputs": [],
   "source": [
    "survived_class = pd.crosstab(index=titanic[\"Survived\"], \n",
    "                             columns=titanic[\"Pclass\"])\n",
    "survived_class.index= [\"died\",\"survived\"]\n",
    "survived_class"
   ]
  },
  {
   "cell_type": "code",
   "execution_count": null,
   "metadata": {
    "slideshow": {
     "slide_type": "fragment"
    }
   },
   "outputs": [],
   "source": [
    "sns.heatmap(survived_class, annot=True, fmt=\"d\")"
   ]
  },
  {
   "cell_type": "code",
   "execution_count": null,
   "metadata": {
    "slideshow": {
     "slide_type": "slide"
    }
   },
   "outputs": [],
   "source": [
    "survived_class_perc = pd.crosstab(index=titanic[\"Survived\"], \n",
    "                                  columns=titanic[\"Pclass\"],\n",
    "                                  normalize='columns') #'index', 'all'\n",
    "survived_class_perc.index= [\"died\",\"survived\"]\n",
    "\n",
    "sns.heatmap(survived_class_perc, \n",
    "            annot=True, \n",
    "            fmt=\".4f\")\n",
    "survived_class_perc"
   ]
  },
  {
   "cell_type": "code",
   "execution_count": null,
   "metadata": {
    "slideshow": {
     "slide_type": "slide"
    }
   },
   "outputs": [],
   "source": [
    "pd.crosstab(index=titanic[\"Survived\"], \n",
    "            columns=[titanic[\"Pclass\"], \n",
    "            titanic[\"Sex\"]],\n",
    "            margins=True)"
   ]
  },
  {
   "cell_type": "code",
   "execution_count": null,
   "metadata": {
    "slideshow": {
     "slide_type": "slide"
    }
   },
   "outputs": [],
   "source": [
    "pd.crosstab(index=titanic[\"Pclass\"], columns=titanic[\"Survived\"]).plot.bar(stacked=True)"
   ]
  },
  {
   "cell_type": "markdown",
   "metadata": {
    "slideshow": {
     "slide_type": "slide"
    }
   },
   "source": [
    "# Visualizations help us understand the data\n",
    "### If they are done well..."
   ]
  }
 ],
 "metadata": {
  "kernelspec": {
   "display_name": "Python 3 (ipykernel)",
   "language": "python",
   "name": "python3"
  },
  "language_info": {
   "codemirror_mode": {
    "name": "ipython",
    "version": 3
   },
   "file_extension": ".py",
   "mimetype": "text/x-python",
   "name": "python",
   "nbconvert_exporter": "python",
   "pygments_lexer": "ipython3",
   "version": "3.9.18"
  }
 },
 "nbformat": 4,
 "nbformat_minor": 4
}
