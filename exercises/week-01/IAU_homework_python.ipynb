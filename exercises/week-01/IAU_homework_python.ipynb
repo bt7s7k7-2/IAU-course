{
 "cells": [
  {
   "cell_type": "markdown",
   "metadata": {
    "colab_type": "text",
    "id": "PE4ExuwJjYZl"
   },
   "source": [
    "# Introduction to Python: DÚ"
   ]
  },
  {
   "cell_type": "code",
   "execution_count": null,
   "metadata": {
    "colab": {},
    "colab_type": "code",
    "id": "m7dnZNjx26I_"
   },
   "outputs": [],
   "source": [
    "# -*- coding: utf-8 -*-\n",
    "#\n",
    "# Licensed under the Apache License, Version 2.0 (the \"License\");\n",
    "# you may not use this file except in compliance with the License.\n",
    "# You may obtain a copy of the License at\n",
    "#\n",
    "# http://www.apache.org/licenses/LICENSE-2.0\n",
    "#\n",
    "# Unless required by applicable law or agreed to in writing, software\n",
    "# distributed under the License is distributed on an \"AS IS\" BASIS,\n",
    "# WITHOUT WARRANTIES OR CONDITIONS OF ANY KIND, either express or\n",
    "# implied.\n",
    "# See the License for the specific language governing permissions and\n",
    "# limitations under the License.\n",
    "#"
   ]
  },
  {
   "cell_type": "markdown",
   "metadata": {
    "colab_type": "text",
    "id": "wtQeTdrV4kO_"
   },
   "source": [
    "Official python tutorial: [https://docs.python.org/3.8/tutorial/index.html](https://docs.python.org/3.8/tutorial/index.html) \n",
    "\n",
    "URL [https://github.com/jerry-git/learn-python3](https://github.com/jerry-git/learn-python3)"
   ]
  },
  {
   "cell_type": "markdown",
   "metadata": {
    "colab_type": "text",
    "id": "NNi-uBwHfdk0"
   },
   "source": [
    "## Task 1"
   ]
  },
  {
   "cell_type": "markdown",
   "metadata": {
    "colab_type": "text",
    "id": "X3eHvejdfgWj"
   },
   "source": [
    "You are given an array of strings:"
   ]
  },
  {
   "cell_type": "code",
   "execution_count": 2,
   "metadata": {
    "colab": {},
    "colab_type": "code",
    "id": "1qj5175CfnTd"
   },
   "outputs": [],
   "source": [
    "array_to_split = [\"Fiit\", \"fiit\", \"megadlhystring!!!\", \"autobiografia\", \"Alica\", \"python\", \"pip\", \"env\", \"jupyter\", \"IAU\"]"
   ]
  },
  {
   "cell_type": "markdown",
   "metadata": {
    "colab_type": "text",
    "id": "RaGmXpqghnQW"
   },
   "source": [
    "Write a function that, for the given array of strings, returns a new array containing only strings at prime indices. Then call this function with the field declared above as a parameter."
   ]
  },
  {
   "cell_type": "code",
   "execution_count": 9,
   "metadata": {
    "colab": {},
    "colab_type": "code",
    "id": "W8ed3W40h529"
   },
   "outputs": [
    {
     "data": {
      "text/plain": [
       "['megadlhystring!!!', 'autobiografia', 'python', 'env']"
      ]
     },
     "execution_count": 9,
     "metadata": {},
     "output_type": "execute_result"
    }
   ],
   "source": [
    "from typing import List\n",
    "\n",
    "def is_prime(number: int):\n",
    "    if number == 0 or number == 1:\n",
    "        return False\n",
    "    \n",
    "    for potential_divisor in range(2, number - 1):\n",
    "        if (number % potential_divisor == 0):\n",
    "            return False\n",
    "        pass\n",
    "    pass\n",
    "\n",
    "    return True\n",
    "pass\n",
    "\n",
    "def filter_prime(list: List[str]):\n",
    "    return [v for i, v in enumerate(list) if is_prime(i)]\n",
    "pass\n",
    "\n",
    "filter_prime(array_to_split)"
   ]
  },
  {
   "cell_type": "markdown",
   "metadata": {
    "colab_type": "text",
    "id": "OsdZWqFsfvgk"
   },
   "source": [
    "Write a program that divides the above declared array into 3 new arrays, where in one array there will be strings of length less than 5. In the second array, strings of length between 5 and 10 (inclusive) and strings starting with the letter \"a\" or any uppercase letter while string of **any** length. In the third field, all other thongs."
   ]
  },
  {
   "cell_type": "code",
   "execution_count": 15,
   "metadata": {
    "colab": {},
    "colab_type": "code",
    "id": "19OHF7shiDI9"
   },
   "outputs": [
    {
     "name": "stdout",
     "output_type": "stream",
     "text": [
      "['Fiit', 'fiit', 'pip', 'env', 'IAU'] ['Fiit', 'autobiografia', 'Alica', 'python', 'jupyter', 'IAU'] ['megadlhystring!!!']\n",
      "['Fiit', 'fiit', 'pip', 'env', 'IAU'] ['autobiografia', 'Alica', 'python', 'jupyter'] ['megadlhystring!!!']\n"
     ]
    }
   ],
   "source": [
    "import re\n",
    "\n",
    "_matches_letter = re.compile(r\"^[aA-Z]\")\n",
    "\n",
    "array_1 = []\n",
    "array_2 = []\n",
    "array_3 = []\n",
    "for v in array_to_split:\n",
    "    if len(v) < 5:\n",
    "        array_1.append(v)\n",
    "    elif (len(v) >= 5 and len(v) <= 10) or re.search(_matches_letter, v):\n",
    "        array_2.append(v)\n",
    "    else:\n",
    "        array_3.append(v)\n",
    "    pass\n",
    "pass\n",
    "\n",
    "print(array_1, array_2, array_3)"
   ]
  },
  {
   "cell_type": "markdown",
   "metadata": {
    "colab_type": "text",
    "id": "-sZ6ISJMp1bR"
   },
   "source": [
    "## Task 2"
   ]
  },
  {
   "cell_type": "markdown",
   "metadata": {
    "colab_type": "text",
    "id": "MzlqAVbwp4qL"
   },
   "source": [
    "We have entered an array of numbers of type Interger (int)."
   ]
  },
  {
   "cell_type": "code",
   "execution_count": 34,
   "metadata": {
    "colab": {},
    "colab_type": "code",
    "id": "9dEavPgJp7b1"
   },
   "outputs": [],
   "source": [
    "arrays = [\n",
    "    [1, 4, 5, 1, 7, 5, 1, 5, 4, 2, 3, 4],\n",
    "    [1, 2, 3, 4, 5, 5, 6, 6, 4, 4, 5, 5, 12, 12, 1, 1, 1, 1, 1, 2, 1],\n",
    "    [1, 1, 2, 20],\n",
    "]"
   ]
  },
  {
   "cell_type": "markdown",
   "metadata": {
    "colab_type": "text",
    "id": "Ie99LXSfqacF"
   },
   "source": [
    "Write a function that tells us, for an array of ints, whether the array can be split into two arrays with the same sum. Then call this function on the field declared above. List two such fields (any that satisfy the condition of equal sum)."
   ]
  },
  {
   "cell_type": "code",
   "execution_count": 35,
   "metadata": {},
   "outputs": [
    {
     "name": "stdout",
     "output_type": "stream",
     "text": [
      "Array matching condition:\n",
      "  [1, 4, 5, 1, 7, 5, 1, 5, 4, 2, 3, 4]\n",
      "  [1, 2, 3, 4, 5, 5, 6, 6, 4, 4, 5, 5, 12, 12, 1, 1, 1, 1, 1, 2, 1]\n"
     ]
    }
   ],
   "source": [
    "# Place for your code\n",
    "def can_be_split_evenly(input: List[int]):\n",
    "    if len(input) == 0 or len(input) == 1:\n",
    "        return False\n",
    "    if sum(input) % 2 != 0:\n",
    "        return False\n",
    "\n",
    "    total_sum = sum(input)\n",
    "    target_sum = total_sum // 2\n",
    "    current_sum = 0\n",
    "    unique_items = list(set(input))\n",
    "    unique_items.sort()\n",
    "    leftover_sum = total_sum\n",
    "\n",
    "    for x in reversed(unique_items):\n",
    "        max_count = input.count(x)\n",
    "        needed_sum = target_sum - current_sum\n",
    "        count_to_apply = min(max_count, needed_sum // x)\n",
    "        value_to_apply = count_to_apply * x\n",
    "        current_sum += value_to_apply\n",
    "        leftover_sum -= value_to_apply\n",
    "        if current_sum == target_sum and leftover_sum == target_sum:\n",
    "            return True\n",
    "    pass\n",
    "\n",
    "    return False\n",
    "\n",
    "print(\"Array matching condition:\")\n",
    "for array in arrays:\n",
    "    if can_be_split_evenly(array): print(f\"  {array}\")"
   ]
  }
 ],
 "metadata": {
  "colab": {
   "collapsed_sections": [],
   "name": "IAU_uvod_do_pythonu.ipynb",
   "provenance": []
  },
  "kernelspec": {
   "display_name": "Python 3",
   "language": "python",
   "name": "python3"
  },
  "language_info": {
   "codemirror_mode": {
    "name": "ipython",
    "version": 3
   },
   "file_extension": ".py",
   "mimetype": "text/x-python",
   "name": "python",
   "nbconvert_exporter": "python",
   "pygments_lexer": "ipython3",
   "version": "3.10.12"
  }
 },
 "nbformat": 4,
 "nbformat_minor": 1
}
