{
 "cells": [
  {
   "cell_type": "code",
   "execution_count": null,
   "metadata": {},
   "outputs": [],
   "source": [
    "# -*- coding: utf-8 -*-\n",
    "#\n",
    "# Licensed under the Apache License, Version 2.0 (the \"License\");\n",
    "# you may not use this file except in compliance with the License.\n",
    "# You may obtain a copy of the License at\n",
    "#\n",
    "# http://www.apache.org/licenses/LICENSE-2.0\n",
    "#\n",
    "# Unless required by applicable law or agreed to in writing, software\n",
    "# distributed under the License is distributed on an \"AS IS\" BASIS,\n",
    "# WITHOUT WARRANTIES OR CONDITIONS OF ANY KIND, either express or\n",
    "# implied.\n",
    "# See the License for the specific language governing permissions and\n",
    "# limitations under the License.\n",
    "#"
   ]
  },
  {
   "cell_type": "markdown",
   "metadata": {},
   "source": [
    "# COVID-19 active worldwide situation in 12.2020\n",
    "\n",
    "### Author: Ahmed Lotfi Alqnatri (2020)\n",
    "\n",
    "#### Origin data source: https://github.com/CSSEGISandData/COVID-19"
   ]
  },
  {
   "cell_type": "code",
   "execution_count": null,
   "metadata": {},
   "outputs": [],
   "source": [
    "import numpy as np \n",
    "import pandas as pd \n",
    "import datetime\n",
    "import math\n",
    "import operator\n",
    "import random\n",
    "import time\n",
    "\n",
    "import plotly as py\n",
    "import plotly.express as px\n",
    "import plotly.graph_objs as go\n",
    "from plotly.subplots import make_subplots\n",
    "\n",
    "import seaborn as sns\n",
    "import matplotlib.pyplot as plt\n",
    "import matplotlib.colors as mcolors\n",
    "%matplotlib inline"
   ]
  },
  {
   "cell_type": "markdown",
   "metadata": {},
   "source": [
    "# 1. EDA: Global Data"
   ]
  },
  {
   "cell_type": "code",
   "execution_count": null,
   "metadata": {},
   "outputs": [],
   "source": [
    "df = pd.read_csv('./data-covid19/covid_19_data.csv')\n",
    "\n",
    "df = df.rename(columns={'Country/Region':'Country'})\n",
    "df = df.rename(columns={'ObservationDate':'Date'})\n",
    "\n",
    "df['Country'] = df['Country'].replace('Mainland China', 'China')\n",
    "df['Active_cases'] = df['Confirmed'] - df['Deaths'] - df['Recovered']\n",
    "\n",
    "df.head()"
   ]
  },
  {
   "cell_type": "code",
   "execution_count": null,
   "metadata": {},
   "outputs": [],
   "source": [
    "last_cases_update = df[df['Date'] == max(df['Date'])].reset_index()\n",
    "data = last_cases_update.groupby(['Date']).sum(numeric_only=True).reset_index()\n",
    "number_of_cases = data[['Confirmed','Recovered', 'Deaths', 'Active_cases', 'Date']]\n",
    "number_of_cases "
   ]
  },
  {
   "cell_type": "code",
   "execution_count": null,
   "metadata": {},
   "outputs": [],
   "source": [
    "df_cases_per_countries = df.groupby(['Country', 'Date']).sum(numeric_only=True).reset_index().sort_values('Date', ascending=False)\n",
    "df_cases_per_countries = df_cases_per_countries.drop_duplicates(subset = ['SNo'])\n",
    "df_cases_per_countries = df_cases_per_countries.drop_duplicates(subset = ['Country'])\n",
    "df_cases_per_countries = df_cases_per_countries[df_cases_per_countries['Confirmed']!=0]\n",
    "df_cases_per_countries"
   ]
  },
  {
   "cell_type": "code",
   "execution_count": null,
   "metadata": {},
   "outputs": [],
   "source": [
    "df2 = df.groupby(\"Date\").sum(numeric_only=True).reset_index().sort_values(by=['Date'], ascending=False).head(100)\n",
    "df2 = df2.sort_values(by=['Date'])"
   ]
  },
  {
   "cell_type": "code",
   "execution_count": null,
   "metadata": {},
   "outputs": [],
   "source": [
    "plt.figure(figsize=(12, 5))\n",
    "plt.xticks(rotation=90)\n",
    "\n",
    "sns.lineplot(x=df2['Date'], y=df2['Confirmed'].tolist(), label = 'CONFIRMED')\n",
    "sns.lineplot(x=df2['Date'], y=df2['Deaths'].tolist(), label = 'DEATH')\n",
    "sns.lineplot(x=df2['Date'], y=df2['Recovered'].tolist(), label = 'RECOVERED')\n",
    "\n",
    "plt.xlabel('Date'); plt.ylabel('Cases Number'); plt.title('All Cases Over Time')\n",
    "plt.legend();"
   ]
  },
  {
   "cell_type": "code",
   "execution_count": null,
   "metadata": {},
   "outputs": [],
   "source": [
    "## https://towardsdatascience.com/visualizing-the-coronavirus-pandemic-with-choropleth-maps-7f30fccaecf5 ##\n",
    "\n",
    "df_countries = df.groupby(['Country', 'Date']).sum(numeric_only=True).reset_index().sort_values('Date', ascending=False)\n",
    "df_countries = df_countries.drop_duplicates(subset = ['Country'])\n",
    "df_countries = df_countries[df_countries['Confirmed']>0]\n",
    "\n",
    "# Create visualization\n",
    "fig = go.Figure(data=go.Choropleth(\n",
    "    locations = df_cases_per_countries['Country'],\n",
    "    locationmode = 'country names',\n",
    "    z = df_cases_per_countries['Confirmed'],\n",
    "    colorscale = 'Reds',\n",
    "    marker_line_color = 'black',\n",
    "    marker_line_width = 0.5,\n",
    "))\n",
    "fig.update_layout(\n",
    "    title_text = 'Confirmed Cases',\n",
    "    title_x = 0.5,\n",
    "    geo=dict(\n",
    "        showframe = False,\n",
    "        showcoastlines = False,\n",
    "        projection_type = 'equirectangular'\n",
    "    )\n",
    ")"
   ]
  },
  {
   "cell_type": "code",
   "execution_count": null,
   "metadata": {},
   "outputs": [],
   "source": [
    "fig = go.Figure(data=go.Choropleth(\n",
    "    locations = df_cases_per_countries['Country'],\n",
    "    locationmode = 'country names',\n",
    "    z = df_cases_per_countries['Recovered'],\n",
    "    colorscale = 'Reds',\n",
    "    marker_line_color = 'black',\n",
    "    marker_line_width = 0.5,\n",
    "))\n",
    "fig.update_layout(\n",
    "    title_text = 'Recovered Cases',\n",
    "    title_x = 0.5,\n",
    "    geo=dict(\n",
    "        showframe = False,\n",
    "        showcoastlines = False,\n",
    "        projection_type = 'equirectangular'\n",
    "    )\n",
    ")"
   ]
  },
  {
   "cell_type": "code",
   "execution_count": null,
   "metadata": {},
   "outputs": [],
   "source": [
    "fig = go.Figure(data=go.Choropleth(\n",
    "    locations = df_cases_per_countries['Country'],\n",
    "    locationmode = 'country names',\n",
    "    z = df_cases_per_countries['Deaths'],\n",
    "    colorscale = 'Reds',\n",
    "    marker_line_color = 'black',\n",
    "    marker_line_width = 0.5,\n",
    "))\n",
    "fig.update_layout(\n",
    "    title_text = 'Dead Cases',\n",
    "    title_x = 0.5,\n",
    "    geo=dict(\n",
    "        showframe = False,\n",
    "        showcoastlines = False,\n",
    "        projection_type = 'equirectangular'\n",
    "    )\n",
    ")"
   ]
  },
  {
   "cell_type": "code",
   "execution_count": null,
   "metadata": {},
   "outputs": [],
   "source": [
    "df1 = df.groupby('Date').sum(numeric_only=True).reset_index().head(10)\n",
    "fig = plt.figure(figsize=(6, 4))\n",
    "\n",
    "ax1 = fig.add_axes([0,0,1,1])\n",
    "ax2 = fig.add_axes([0.05,0.65,0.5,0.3])\n",
    "\n",
    "ax1.set_title(\"Confirmed cases Death cases over time top 10\")\n",
    "ax1.plot(df1['Date'], df1['Confirmed'], color='blue')\n",
    "\n",
    "ax2.plot(df1['Date'], df1['Deaths'], color='red')\n",
    "plt.xticks(rotation=90)"
   ]
  },
  {
   "cell_type": "markdown",
   "metadata": {},
   "source": [
    "# 2. EDA: Time series data"
   ]
  },
  {
   "cell_type": "code",
   "execution_count": null,
   "metadata": {},
   "outputs": [],
   "source": [
    "df_confirmed = pd.read_csv('./data-covid19/time_series_covid_19_confirmed.csv')\n",
    "# df_confirmed.head()\n",
    "\n",
    "df_deaths = pd.read_csv('./data-covid19/time_series_covid_19_deaths.csv')\n",
    "# df_deaths.head()\n",
    "\n",
    "df_recovered = pd.read_csv('./data-covid19/time_series_covid_19_recovered.csv')\n",
    "# df_recovered.head()"
   ]
  },
  {
   "cell_type": "code",
   "execution_count": null,
   "metadata": {},
   "outputs": [],
   "source": [
    "df_confirmed_dates = df_confirmed.iloc[:, 4:-1]\n",
    "df_deaths_dates = df_deaths.iloc[:, 4:-1]\n",
    "df_recovered_dates = df_recovered.iloc[:, 4:-1]\n",
    "\n",
    "dates = df_confirmed_dates.keys()\n",
    "total_confirmed_cases = []\n",
    "total_deaths = []\n",
    "mortality_rate = []\n",
    "total_recovered = []\n",
    "\n",
    "for date in dates:\n",
    "    confirmed_sum = df_confirmed_dates[date].sum()\n",
    "    death_sum = df_deaths_dates[date].sum()\n",
    "    recovered_sum = df_recovered_dates[date].sum()\n",
    "    total_confirmed_cases.append(confirmed_sum)\n",
    "    total_deaths.append(death_sum)\n",
    "    mortality_rate.append(death_sum/confirmed_sum)\n",
    "    total_recovered.append(recovered_sum)\n",
    "    \n",
    "print(f' Total Confirmed Cases: {confirmed_sum}, Total Deaths Cases: {death_sum}, Total Recovered Cases: {recovered_sum}')"
   ]
  },
  {
   "cell_type": "code",
   "execution_count": null,
   "metadata": {},
   "outputs": [],
   "source": [
    "# reshaping the lists\n",
    "total_confirmed_cases_np = np.array(total_confirmed_cases).reshape(-1,1)\n",
    "total_deaths_np = np.array(total_deaths).reshape(-1,1)\n",
    "total_recovered_np = np.array(total_recovered).reshape(-1,1)\n",
    "dates_list_np = np.array([date for date in range(len(dates))]).reshape(-1,1)"
   ]
  },
  {
   "cell_type": "code",
   "execution_count": null,
   "metadata": {},
   "outputs": [],
   "source": [
    "forcast_of_next_month_np = np.array([date for date in range(len(dates)+ 30)]).reshape(-1,1)\n",
    "# forcast_of_next_month_np\n",
    "\n",
    "# forecasting for the next month\n",
    "forcast_of_next_month_dates = []\n",
    "for col in range(len(forcast_of_next_month_np)):\n",
    "    forcast_of_next_month_dates.append((datetime.datetime.strptime('2020-01-22', '%Y-%m-%d') + datetime.timedelta(days=col)).strftime('%Y-%m-%d'))\n",
    "\n",
    "# forecast_of_next_month_dates"
   ]
  },
  {
   "cell_type": "code",
   "execution_count": null,
   "metadata": {},
   "outputs": [],
   "source": [
    "List_of_countries = list(df_confirmed['Country/Region'].unique())\n",
    "# List_of_countries"
   ]
  },
  {
   "cell_type": "code",
   "execution_count": null,
   "metadata": {},
   "outputs": [],
   "source": [
    "# total_confirmed_cases_per_country\n",
    "y = df_confirmed.groupby(\"Country/Region\").sum(numeric_only=True).reset_index()\n",
    "total_confirmed_cases_per_country = y.iloc[:,[0] + [-1]]\n",
    "total_confirmed_cases_per_country = total_confirmed_cases_per_country.rename(columns={\"Country/Region\":\"Country\",\"12/6/20\":\"Cases\"})\n",
    "total_confirmed_cases_per_country['Country'].replace('Mainland China', 'China')\n",
    "total_confirmed_cases_per_country"
   ]
  },
  {
   "cell_type": "code",
   "execution_count": null,
   "metadata": {},
   "outputs": [],
   "source": [
    "fig = go.Figure(data=go.Choropleth(\n",
    "    locations = total_confirmed_cases_per_country['Country'],\n",
    "    locationmode = 'country names',\n",
    "    z = total_confirmed_cases_per_country['Cases'],\n",
    "    colorscale = 'Reds',\n",
    "    marker_line_color = 'black',\n",
    "    marker_line_width = 0.5,\n",
    "))\n",
    "fig.update_layout(\n",
    "    title_text = 'Confirmed Cases',\n",
    "    title_x = 0.5,\n",
    "    geo=dict(\n",
    "        showframe = False,\n",
    "        showcoastlines = False,\n",
    "        projection_type = 'equirectangular'\n",
    "    )\n",
    ")"
   ]
  },
  {
   "cell_type": "code",
   "execution_count": null,
   "metadata": {},
   "outputs": [],
   "source": [
    "# total_recovered_cases_per_country\n",
    "y1 = df_recovered.groupby(\"Country/Region\").sum(numeric_only=True).reset_index()\n",
    "total_recovered_cases_per_country = y1.iloc[:,[0] + [-1]]\n",
    "total_recovered_cases_per_country = total_recovered_cases_per_country.rename(columns={\"Country/Region\":\"Country\",\"12/6/20\":\"Cases\"})\n",
    "total_recovered_cases_per_country['Country'].replace('Mainland China', 'China')\n",
    "total_recovered_cases_per_country"
   ]
  },
  {
   "cell_type": "code",
   "execution_count": null,
   "metadata": {},
   "outputs": [],
   "source": [
    "fig = go.Figure(data=go.Choropleth(\n",
    "    locations = total_recovered_cases_per_country['Country'],\n",
    "    locationmode = 'country names',\n",
    "    z = total_recovered_cases_per_country['Cases'],\n",
    "    colorscale = 'Reds',\n",
    "    marker_line_color = 'black',\n",
    "    marker_line_width = 0.5,\n",
    "))\n",
    "fig.update_layout(\n",
    "    title_text = 'Recovered Cases',\n",
    "    title_x = 0.5,\n",
    "    geo=dict(\n",
    "        showframe = False,\n",
    "        showcoastlines = False,\n",
    "        projection_type = 'equirectangular'\n",
    "    )\n",
    ")"
   ]
  },
  {
   "cell_type": "code",
   "execution_count": null,
   "metadata": {},
   "outputs": [],
   "source": [
    "# total_deaths_cases_per_country\n",
    "y2 = df_deaths.groupby(\"Country/Region\").sum(numeric_only=True).reset_index()\n",
    "total_deaths_cases_per_country = y2.iloc[:,[0] + [-1]]\n",
    "total_deaths_cases_per_country = total_deaths_cases_per_country.rename(columns={\"Country/Region\":\"Country\",\"12/6/20\":\"Cases\"})\n",
    "total_deaths_cases_per_country['Country'].replace('Mainland China', 'China')\n",
    "total_deaths_cases_per_country"
   ]
  },
  {
   "cell_type": "code",
   "execution_count": null,
   "metadata": {},
   "outputs": [],
   "source": [
    "fig = go.Figure(data=go.Choropleth(\n",
    "    locations = total_deaths_cases_per_country['Country'],\n",
    "    locationmode = 'country names',\n",
    "    z = total_deaths_cases_per_country['Cases'],\n",
    "    colorscale = 'Reds',\n",
    "    marker_line_color = 'black',\n",
    "    marker_line_width = 0.5,\n",
    "))\n",
    "fig.update_layout(\n",
    "    title_text = 'Deaths Cases',\n",
    "    title_x = 0.5,\n",
    "    geo=dict(\n",
    "        showframe = False,\n",
    "        showcoastlines = False,\n",
    "        projection_type = 'equirectangular'\n",
    "    )\n",
    ")"
   ]
  },
  {
   "cell_type": "markdown",
   "metadata": {},
   "source": [
    "# 3. Modeling"
   ]
  },
  {
   "cell_type": "code",
   "execution_count": null,
   "metadata": {},
   "outputs": [],
   "source": [
    "# splitting the data\n",
    "from sklearn.model_selection import train_test_split\n",
    "\n",
    "X_train_confirmed, X_test_confirmed, y_train_confirmed, y_test_confirmed = train_test_split(dates_list_np, total_confirmed_cases_np, test_size =0.20, random_state = 0)\n",
    "X_train_recovered, X_test_recovered, y_train_recovered, y_test_recovered = train_test_split(dates_list_np, total_recovered_np, test_size =0.20, random_state = 0)"
   ]
  },
  {
   "cell_type": "markdown",
   "metadata": {},
   "source": [
    "## 3.1 Linear Regression"
   ]
  },
  {
   "cell_type": "code",
   "execution_count": null,
   "metadata": {},
   "outputs": [],
   "source": [
    "# build and train the model for comfiremed cases\n",
    "from sklearn.linear_model import LinearRegression\n",
    "from sklearn.metrics import mean_squared_error, mean_absolute_error\n",
    "\n",
    "model = LinearRegression(fit_intercept=True)\n",
    "model.fit(X_train_confirmed, y_train_confirmed)\n",
    "\n",
    "test_pred = model.predict(X_test_confirmed)\n",
    "pred = model.predict(forcast_of_next_month_np)\n",
    "\n",
    "print('Mean Absolute Error: ', mean_absolute_error(test_pred, y_test_confirmed))\n",
    "print('Mean Squared Error: ', mean_squared_error(test_pred, y_test_confirmed))"
   ]
  },
  {
   "cell_type": "code",
   "execution_count": null,
   "metadata": {},
   "outputs": [],
   "source": [
    "plt.figure(figsize=(6, 4))\n",
    "plt.plot(y_test_confirmed)\n",
    "plt.plot(test_pred)"
   ]
  },
  {
   "cell_type": "code",
   "execution_count": null,
   "metadata": {},
   "outputs": [],
   "source": [
    "plt.figure(figsize=(6, 4))\n",
    "plt.plot(dates_list_np, total_confirmed_cases)\n",
    "plt.plot(forcast_of_next_month_np, pred, linestyle='dashed', color='purple')\n",
    "plt.title('Number of Confirmed cases vs predicted')\n",
    "plt.xlabel('Days')\n",
    "plt.ylabel('Number of cases')\n",
    "plt.legend(['Confirmed cases', 'Predicted cases'])\n",
    "plt.show()"
   ]
  },
  {
   "cell_type": "code",
   "execution_count": null,
   "metadata": {},
   "outputs": [],
   "source": [
    "# building model for recovered cases\n",
    "model_1 = LinearRegression(fit_intercept=True)\n",
    "model_1.fit(X_train_recovered, y_train_recovered)\n",
    "\n",
    "test_pred_recovery = model_1.predict(X_test_recovered)\n",
    "pred_recovery = model_1.predict(forcast_of_next_month_np)\n",
    "\n",
    "print('Mean Absolute Error: ', mean_absolute_error(test_pred_recovery, y_test_recovered))\n",
    "print('Mean Squared Error: ', mean_squared_error(test_pred_recovery, y_test_recovered))"
   ]
  },
  {
   "cell_type": "code",
   "execution_count": null,
   "metadata": {},
   "outputs": [],
   "source": [
    "plt.plot(y_test_recovered)\n",
    "plt.plot(test_pred_recovery)\n",
    "plt.legend(['Recovered cases', 'Predicted cases'])"
   ]
  },
  {
   "cell_type": "code",
   "execution_count": null,
   "metadata": {},
   "outputs": [],
   "source": [
    "plt.figure(figsize=(6, 4))\n",
    "plt.plot(dates_list_np, total_recovered)\n",
    "plt.plot(forcast_of_next_month_np, pred_recovery, linestyle='dashed', color='purple')\n",
    "plt.title('Number of Recovered cases vs Prediction')\n",
    "plt.xlabel('Days')\n",
    "plt.ylabel('Number of cases')\n",
    "plt.legend(['Recovered cases', 'Predicted cases'])\n",
    "plt.show()"
   ]
  },
  {
   "cell_type": "markdown",
   "metadata": {},
   "source": [
    "## 3.2 Support Vector Regression (SVR)"
   ]
  },
  {
   "cell_type": "code",
   "execution_count": null,
   "metadata": {},
   "outputs": [],
   "source": [
    "from sklearn.svm import SVR\n",
    "\n",
    "svm_confirmed = SVR(shrinking=True, kernel='poly',gamma=0.01, epsilon=1,degree=3, C=0.1)\n",
    "svm_confirmed.fit(X_train_confirmed, y_train_confirmed.ravel())\n",
    "\n",
    "svm_pred = svm_confirmed.predict(forcast_of_next_month_np)\n",
    "svm_test_pred = svm_confirmed.predict(X_test_confirmed)\n",
    "\n",
    "print('MAE:', mean_absolute_error(svm_test_pred, y_test_confirmed))\n",
    "print('MSE:',mean_squared_error(svm_test_pred, y_test_confirmed))"
   ]
  },
  {
   "cell_type": "code",
   "execution_count": null,
   "metadata": {},
   "outputs": [],
   "source": [
    "# Plotting prediction vs y_test graph\n",
    "plt.figure(figsize=(6, 4))\n",
    "plt.plot(y_test_confirmed)\n",
    "plt.plot(svm_test_pred)\n",
    "plt.title(\"SVM prediction vs y_test\")\n",
    "plt.legend(['Confirmed cases', 'SVM Predictions'])"
   ]
  },
  {
   "cell_type": "markdown",
   "metadata": {},
   "source": [
    "## 3.3 Polynomial Regression"
   ]
  },
  {
   "cell_type": "code",
   "execution_count": null,
   "metadata": {},
   "outputs": [],
   "source": [
    "from sklearn.preprocessing import PolynomialFeatures\n",
    "\n",
    "# transforming our data for polynomial regression\n",
    "poly = PolynomialFeatures(degree=5)\n",
    "\n",
    "poly_x_train = poly.fit_transform(X_train_confirmed)\n",
    "poly_x_test = poly.transform(X_test_confirmed)\n",
    "poly_future_forcasting = poly.transform(forcast_of_next_month_np)"
   ]
  },
  {
   "cell_type": "code",
   "execution_count": null,
   "metadata": {},
   "outputs": [],
   "source": [
    "# building Linear Regression model\n",
    "classifier = LinearRegression(fit_intercept=False)\n",
    "\n",
    "classifier.fit(poly_x_train, y_train_confirmed)\n",
    "test_classifier_pred = classifier.predict(poly_x_test)\n",
    "classifier_pred = classifier.predict(poly_future_forcasting)\n",
    "\n",
    "print('MAE:', mean_absolute_error(test_classifier_pred, y_test_confirmed))\n",
    "print('MSE:',mean_squared_error(test_classifier_pred, y_test_confirmed))\n",
    "print(classifier.coef_)"
   ]
  },
  {
   "cell_type": "code",
   "execution_count": null,
   "metadata": {},
   "outputs": [],
   "source": [
    "# Plotting test data vs polynomial regression prediction\n",
    "plt.figure(figsize=(6, 4))\n",
    "plt.plot(y_test_confirmed)\n",
    "plt.plot(test_classifier_pred)\n",
    "plt.title('Test Data vs Polynomial Regression Predictions')\n",
    "plt.legend(['Test Data', 'Polynomial Regression Predictions'])"
   ]
  },
  {
   "cell_type": "markdown",
   "metadata": {},
   "source": [
    "# 4. Moving average visualization"
   ]
  },
  {
   "cell_type": "code",
   "execution_count": null,
   "metadata": {},
   "outputs": [],
   "source": [
    "# calculating moving increase\n",
    "def moving_average(data, window_size):\n",
    "    moving_average = []\n",
    "    for i in range(len(data)):\n",
    "        if i + window_size < len(data):\n",
    "            moving_average.append(np.mean(data[i:i+window_size]))\n",
    "        else:\n",
    "            moving_average.append(np.mean(data[i:len(data)]))\n",
    "    return moving_average"
   ]
  },
  {
   "cell_type": "code",
   "execution_count": null,
   "metadata": {},
   "outputs": [],
   "source": [
    "# visualizing rate of confirmed cases worldwide vs moving average\n",
    "adjusted_dates = forcast_of_next_month_np[:-10]\n",
    "adjusted_dates = adjusted_dates.reshape(1, -1)[0]\n",
    "adjusted_dates_1 = adjusted_dates[0:319]\n",
    "world_confirmed_avg = moving_average(total_confirmed_cases, 16)\n",
    "\n",
    "plt.figure(figsize=(6, 4))\n",
    "plt.plot(adjusted_dates_1, total_confirmed_cases)\n",
    "plt.plot(adjusted_dates_1, world_confirmed_avg, linestyle='dashed', color='blue')\n",
    "plt.title('Rate of Confirmed Coronavirus world Cases Over Time')\n",
    "plt.xlabel('Days Since 1/22/2020')\n",
    "plt.ylabel('Rate of Cases')\n",
    "plt.legend(['Worldwide Confirmed Coronavirus Cases', 'Moving Average 30 Days'], prop={'size': 10})\n",
    "plt.show()"
   ]
  },
  {
   "cell_type": "code",
   "execution_count": null,
   "metadata": {},
   "outputs": [],
   "source": [
    "# visualizing rate of recovered cases worldwide vs moving average\n",
    "adjusted_dates = forcast_of_next_month_np[:-10]\n",
    "adjusted_dates = adjusted_dates.reshape(1, -1)[0]\n",
    "adjusted_dates_1 = adjusted_dates[0:319]\n",
    "world_recovered_avg = moving_average(total_recovered, 16)\n",
    "\n",
    "plt.figure(figsize=(6, 4))\n",
    "plt.plot(adjusted_dates_1, total_recovered)\n",
    "plt.plot(adjusted_dates_1, world_recovered_avg, linestyle='dashed', color='blue')\n",
    "plt.title('Rate of Recovered Coronavirus world Cases Over Time')\n",
    "plt.xlabel('Days Since 1/22/2020')\n",
    "plt.ylabel('Rate of Cases')\n",
    "plt.legend(['Worldwide Recovered Coronavirus Cases', 'Moving Average 30 Days'], prop={'size': 10})\n",
    "plt.show()"
   ]
  },
  {
   "cell_type": "code",
   "execution_count": null,
   "metadata": {},
   "outputs": [],
   "source": [
    "# visualizing rate of death cases worldwide vs moving average\n",
    "adjusted_dates = forcast_of_next_month_np[:-10]\n",
    "adjusted_dates = adjusted_dates.reshape(1, -1)[0]\n",
    "adjusted_dates_1 = adjusted_dates[0:319]\n",
    "world_deaths_avg = moving_average(total_deaths, 16)\n",
    "\n",
    "plt.figure(figsize=(6, 4))\n",
    "plt.plot(adjusted_dates_1, total_deaths)\n",
    "plt.plot(adjusted_dates_1, world_deaths_avg, linestyle='dashed', color='blue')\n",
    "plt.title('Rate of Deaths Coronavirus world Cases Over Time')\n",
    "plt.xlabel('Days Since 1/22/2020')\n",
    "plt.ylabel('Rate of Cases')\n",
    "plt.legend(['Worldwide Deaths Coronavirus Cases', 'Moving Average 30 Days'], prop={'size': 10})\n",
    "plt.show()"
   ]
  }
 ],
 "metadata": {
  "kernelspec": {
   "display_name": "Python 3 (ipykernel)",
   "language": "python",
   "name": "python3"
  },
  "language_info": {
   "codemirror_mode": {
    "name": "ipython",
    "version": 3
   },
   "file_extension": ".py",
   "mimetype": "text/x-python",
   "name": "python",
   "nbconvert_exporter": "python",
   "pygments_lexer": "ipython3",
   "version": "3.9.15"
  }
 },
 "nbformat": 4,
 "nbformat_minor": 4
}
