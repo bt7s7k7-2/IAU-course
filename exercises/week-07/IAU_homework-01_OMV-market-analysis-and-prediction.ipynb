{
 "cells": [
  {
   "cell_type": "code",
   "execution_count": null,
   "metadata": {},
   "outputs": [],
   "source": [
    "# -*- coding: utf-8 -*-\n",
    "#\n",
    "# Licensed under the Apache License, Version 2.0 (the \"License\");\n",
    "# you may not use this file except in compliance with the License.\n",
    "# You may obtain a copy of the License at\n",
    "#\n",
    "# http://www.apache.org/licenses/LICENSE-2.0\n",
    "#\n",
    "# Unless required by applicable law or agreed to in writing, software\n",
    "# distributed under the License is distributed on an \"AS IS\" BASIS,\n",
    "# WITHOUT WARRANTIES OR CONDITIONS OF ANY KIND, either express or\n",
    "# implied.\n",
    "# See the License for the specific language governing permissions and\n",
    "# limitations under the License.\n",
    "#"
   ]
  },
  {
   "cell_type": "markdown",
   "metadata": {
    "collapsed": false,
    "jupyter": {
     "outputs_hidden": false
    }
   },
   "source": [
    "# Market Analysis Team - Analysis and Prediction - OMV\n",
    "\n",
    "### Author: Samuel Nicolas Bernát (2024)\n",
    "\n",
    "This notebook analyzes electricity production of gas powered electrical power plants in Austria for OMV Gas Marketing & Trading GmbH (OMV), and their relationship to general consumption of gas in Austria. It also contains a showcase of Linear Regression model and a prediction, utilized via joblib.\n",
    "\n",
    "### Table of Contents\n",
    "1. [Data Loading and Transformation](#Data-Loading-and-Transformation)\n",
    "2. [Data Preparation](#Data-Preparation)\n",
    "3. [Linear Regression Prediction and ML](#Linear-Regression-Prediction-and-ML)\n",
    "4. [Prediction of Gas Consumption in Austria](#Prediction-of-Gas-Consumption-in-Austria)\n",
    "5. [Key Findings](#Key-Findings)"
   ]
  },
  {
   "cell_type": "markdown",
   "metadata": {
    "collapsed": false,
    "jupyter": {
     "outputs_hidden": false
    }
   },
   "source": [
    "## Data Loading\n",
    "The data is loaded from CSV files - data sources are web portals ENTSOE transparency, AGGM."
   ]
  },
  {
   "cell_type": "code",
   "execution_count": null,
   "metadata": {
    "collapsed": false,
    "jupyter": {
     "outputs_hidden": false
    }
   },
   "outputs": [],
   "source": [
    "import pandas as pd\n",
    "import plotly.express as px"
   ]
  },
  {
   "cell_type": "code",
   "execution_count": null,
   "metadata": {
    "collapsed": false,
    "jupyter": {
     "outputs_hidden": false
    }
   },
   "outputs": [],
   "source": [
    "aggm_df = pd.read_csv('data-omv/gas_consumption.csv')\n",
    "entsoe_df = pd.read_csv('data-omv/electricity_production.csv')"
   ]
  },
  {
   "cell_type": "markdown",
   "metadata": {
    "collapsed": false,
    "jupyter": {
     "outputs_hidden": false
    }
   },
   "source": [
    "## Data Preparation"
   ]
  },
  {
   "cell_type": "code",
   "execution_count": null,
   "metadata": {
    "collapsed": false,
    "jupyter": {
     "outputs_hidden": false
    }
   },
   "outputs": [],
   "source": [
    "# aggm_df.to_csv('gas_consumption.csv', index=False)\n",
    "# entsoe_df.to_csv('electricity_production.csv', index=True)\n",
    "\n",
    "aggm_df['name'] = aggm_df['name'].astype(str)\n",
    "entsoe_df['station_name'] = entsoe_df['station_name'].astype(str)\n",
    "\n",
    "aggm_df['datetime'] = pd.to_datetime(aggm_df['datetime'])\n",
    "entsoe_df['datetime'] = pd.to_datetime(entsoe_df['datetime'])\n",
    "\n",
    "\n",
    "aggm_consumption_df = aggm_df[aggm_df['name'].str.contains('ErmittelterEKVOesterreich', na=False)]      # filter aggm df to contain only consumption data\n",
    "aggm_consumption_df.loc[:, 'value_mwhd'] = aggm_consumption_df['value_mwhd'] * -1\n",
    "\n",
    "print(aggm_consumption_df)\n",
    "ac_df = aggm_consumption_df"
   ]
  },
  {
   "cell_type": "code",
   "execution_count": null,
   "metadata": {
    "collapsed": false,
    "jupyter": {
     "outputs_hidden": false
    }
   },
   "outputs": [],
   "source": [
    "entsoe_df['datetime'] = pd.to_datetime(entsoe_df['datetime'])           # filter entsoe df to contain aggregated records of production of all powerplants in a day to 16:00\n",
    "entsoe_df.set_index('datetime', inplace=True)\n",
    "entsoe_production_df = entsoe_df['value_mwhd'].resample('24h', offset='16h').sum().reset_index()\n",
    "\n",
    "ec_df = entsoe_production_df"
   ]
  },
  {
   "cell_type": "markdown",
   "metadata": {
    "collapsed": false,
    "jupyter": {
     "outputs_hidden": false
    }
   },
   "source": [
    "Visualized correlation of electricity production of plants running on gas vs. general gas consumption in Austria"
   ]
  },
  {
   "cell_type": "code",
   "execution_count": null,
   "metadata": {
    "collapsed": false,
    "jupyter": {
     "outputs_hidden": false
    }
   },
   "outputs": [],
   "source": [
    "entsoe_production_df = entsoe_production_df.copy()\n",
    "aggm_consumption_df = aggm_consumption_df.copy()\n",
    "\n",
    "entsoe_production_df.loc[:, 'source'] = 'ENTSOE'\n",
    "aggm_consumption_df.loc[:, 'source'] = 'AGGM'\n",
    "\n",
    "\n",
    "combined_df = pd.concat([                       # combining dfs\n",
    "    entsoe_production_df[['datetime', 'value_mwhd', 'source']],\n",
    "    aggm_consumption_df[['datetime', 'value_mwhd', 'source']]], ignore_index=True)\n",
    "\n",
    "\n",
    "fig = px.line(combined_df, x='datetime', y='value_mwhd', color='source', title='Electricity Production vs. Gas Consumption Comparison')\n",
    "fig.update_layout(\n",
    "    xaxis_title='Date',\n",
    "    yaxis_title='Consumption MWh/d',\n",
    "    legend_title='Source'\n",
    ")\n",
    "\n",
    "fig.show()\n"
   ]
  },
  {
   "cell_type": "markdown",
   "metadata": {
    "collapsed": false,
    "jupyter": {
     "outputs_hidden": false
    }
   },
   "source": [
    "## Linear Regression Prediction and ML\n",
    "Preparing data:"
   ]
  },
  {
   "cell_type": "code",
   "execution_count": null,
   "metadata": {
    "collapsed": false,
    "jupyter": {
     "outputs_hidden": false
    }
   },
   "outputs": [],
   "source": [
    "from sklearn.model_selection import train_test_split\n",
    "from sklearn.linear_model import LinearRegression\n",
    "from sklearn.metrics import mean_squared_error, r2_score\n",
    "import numpy as np\n",
    "import joblib\n",
    "\n",
    "ec_df.loc[:, 'datetime'] = ec_df['datetime'].dt.date\n",
    "ac_df.loc[:, 'datetime'] = ac_df['datetime'].dt.date\n",
    "ec_df.set_index('datetime', inplace=True)\n",
    "ac_df.set_index('datetime', inplace=True)\n",
    "\n",
    "data = pd.merge(ec_df.reset_index(), ac_df.reset_index(), on='datetime', suffixes=('_entsoe', '_aggm'))\n",
    "data.drop(columns=['name'], inplace=True)\n",
    "data.dropna(inplace=True)\n",
    "\n",
    "print(data)"
   ]
  },
  {
   "cell_type": "code",
   "execution_count": null,
   "metadata": {
    "collapsed": false,
    "jupyter": {
     "outputs_hidden": false
    }
   },
   "outputs": [],
   "source": [
    "X = data[['value_mwhd_entsoe']]                                                             # preparing feature and target variables\n",
    "y = data['value_mwhd_aggm']\n",
    "\n",
    "X_train, X_test, y_train, y_test = train_test_split(X, y, test_size=0.2, random_state=0)    # splitting data into training and testing sets\n",
    "\n",
    "model = LinearRegression()                                                                  # training linear regression model\n",
    "model.fit(X_train, y_train)\n",
    "joblib.dump(model, 'gas_consumption_linear_regression_model.pkl')                           # save the trained model for later use\n",
    "\n",
    "y_pred = model.predict(X_test)                                                              # predicting AGGM consumption on test set\n",
    "data['predicted_aggm_consumption'] = model.predict(X)\n",
    "\n",
    "fig = px.line(data, x='datetime', y=['value_mwhd_aggm', 'predicted_aggm_consumption'], title='Actual vs predicted AGGM gas consumption in Austria')    # Plot the actual vs predicted values using Plotly Express\n",
    "fig.update_layout(\n",
    "    xaxis_title='Date',\n",
    "    yaxis_title='Consumption MWh/d',\n",
    "    legend_title='Actual value/Prediction'\n",
    ")\n",
    "\n",
    "fig.update_traces(\n",
    "    name='Actual Gas Consumption', selector=dict(name='value_mwhd_aggm')\n",
    ")\n",
    "fig.update_traces(\n",
    "    name='Predicted Gas Consumption', selector=dict(name='predicted_aggm_consumption')\n",
    ")\n",
    "fig.show()\n"
   ]
  },
  {
   "cell_type": "markdown",
   "metadata": {
    "collapsed": false,
    "jupyter": {
     "outputs_hidden": false
    }
   },
   "source": [
    "In the plot above, we can visually see the correlation of the actual gas consumption in Austria and the predicted values.\n",
    "The results of performance metrics below are not ideal, but good enough as a showcase. Ideally, root mean squared error should be as low as possible, because it shows deviations of predicted values ​​from the actual ones. R2 score should be as close to 1 as possible in order to increase the model performance."
   ]
  },
  {
   "cell_type": "code",
   "execution_count": null,
   "metadata": {
    "collapsed": false,
    "jupyter": {
     "outputs_hidden": false
    }
   },
   "outputs": [],
   "source": [
    "mse = mean_squared_error(y_test, y_pred)                                                # calculating performance metrics to evaluate solution\n",
    "rmse = np.sqrt(mse)\n",
    "r2 = r2_score(y_test, y_pred)\n",
    "\n",
    "print(f'Root mean squared error: {rmse}')\n",
    "print(f'R2 score: {r2}')"
   ]
  },
  {
   "cell_type": "markdown",
   "metadata": {
    "collapsed": false,
    "jupyter": {
     "outputs_hidden": false
    }
   },
   "source": [
    "## Prediction of Gas Consumption in Austria\n",
    "This prediction is based on the trained model and the data we have with expected electricity production of gas powered power plants within Austria. Based on these data we try to predict the overall gas consumption in Austria."
   ]
  },
  {
   "cell_type": "code",
   "execution_count": null,
   "metadata": {
    "collapsed": false,
    "jupyter": {
     "outputs_hidden": false
    }
   },
   "outputs": [],
   "source": [
    "prediction_entsoe_df = pd.read_csv('data-omv/future_gas_consumption.csv')                        # load data from CSV file about prediction of electricity production\n",
    "\n",
    "prediction_entsoe_df['datetime'] = pd.to_datetime(prediction_entsoe_df['datetime'])     # preparing data\n",
    "prediction_entsoe_df.set_index('datetime', inplace=True)\n",
    "prediction_entsoe_df = prediction_entsoe_df['value_mwhd'].resample('24h', offset='16h').sum().reset_index()\n",
    "prediction_entsoe_df.rename(columns={'value_mwhd': 'value_mwhd_entsoe'}, inplace=True)\n",
    "new_entsoe_consumption = prediction_entsoe_df[['value_mwhd_entsoe']]\n",
    "\n",
    "loaded_model = joblib.load('gas_consumption_linear_regression_model.pkl')               # load the saved linear regression model (above code)\n",
    "aggm_predictions = loaded_model.predict(new_entsoe_consumption)                         # predict the data\n",
    "\n",
    "prediction_entsoe_df['predicted_aggm_consumption'] = aggm_predictions                   # inserting predictions to the df for comparison\n",
    "print(prediction_entsoe_df)"
   ]
  },
  {
   "cell_type": "code",
   "execution_count": null,
   "metadata": {
    "collapsed": false,
    "jupyter": {
     "outputs_hidden": false
    }
   },
   "outputs": [],
   "source": [
    "fig = px.line(prediction_entsoe_df, x='datetime', y=['value_mwhd_entsoe', 'predicted_aggm_consumption'], title='Predicted total gas consumption based on powerplants electricity production')\n",
    "fig.update_layout(\n",
    "    xaxis_title='Date',\n",
    "    yaxis_title='Consumption & Production MWh/d',\n",
    "    legend_title='Consumption and Production Data'\n",
    ")\n",
    "fig.update_traces(\n",
    "    name='Actual Electricity Production', selector=dict(name='value_mwhd_entsoe')\n",
    ")\n",
    "fig.update_traces(\n",
    "    name='Predicted Gas Consumption', selector=dict(name='predicted_aggm_consumption')\n",
    ")\n",
    "fig.show()"
   ]
  },
  {
   "cell_type": "markdown",
   "metadata": {
    "collapsed": false,
    "jupyter": {
     "outputs_hidden": false
    }
   },
   "source": [
    "## Key Findings\n",
    "- We have developed a Linear Regression model capable of predicting general gas consumption in Austria based on electricity production of gas powered electrical powerplants\n",
    "- We have saved the model for further use\n",
    "- In the graph above, we can see predicted values ​​for the future of gas consumption"
   ]
  }
 ],
 "metadata": {
  "kernelspec": {
   "display_name": "Python 3 (ipykernel)",
   "language": "python",
   "name": "python3"
  },
  "language_info": {
   "codemirror_mode": {
    "name": "ipython",
    "version": 3
   },
   "file_extension": ".py",
   "mimetype": "text/x-python",
   "name": "python",
   "nbconvert_exporter": "python",
   "pygments_lexer": "ipython3",
   "version": "3.9.18"
  }
 },
 "nbformat": 4,
 "nbformat_minor": 4
}
